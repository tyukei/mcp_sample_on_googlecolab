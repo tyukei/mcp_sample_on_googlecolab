{
  "cells": [
    {
      "cell_type": "markdown",
      "metadata": {
        "id": "view-in-github",
        "colab_type": "text"
      },
      "source": [
        "<a href=\"https://colab.research.google.com/github/tyukei/mcp_sample_on_googlecolab/blob/main/mcp_sample_on_googlecolab.ipynb\" target=\"_parent\"><img src=\"https://colab.research.google.com/assets/colab-badge.svg\" alt=\"Open In Colab\"/></a>"
      ]
    },
    {
      "cell_type": "markdown",
      "metadata": {
        "id": "21RhTMXXiYZq"
      },
      "source": [
        "# 🚀 MCP Server & Client in Google Colab (SSE mode)"
      ]
    },
    {
      "cell_type": "markdown",
      "source": [
        "Google(key): https://aistudio.google.com/apikey\n",
        "\n",
        "grok(登録ページ): https://dashboard.ngrok.com/signup\n",
        "\n",
        "grok(key): https://dashboard.ngrok.com/get-started/your-authtoken"
      ],
      "metadata": {
        "id": "ISGt-li8nWVE"
      }
    },
    {
      "cell_type": "code",
      "source": [
        "GOOGLE_API_KEY = \"\"\n",
        "NGROK_AUTHTOKEN = \"\""
      ],
      "metadata": {
        "id": "mX73TOymnSu3"
      },
      "execution_count": null,
      "outputs": []
    },
    {
      "cell_type": "code",
      "source": [
        "!pip install ag2[mcp] pyngrok nest_asyncio\n",
        "!ngrok config add-authtoken $NGROK_AUTHTOKEN"
      ],
      "metadata": {
        "colab": {
          "base_uri": "https://localhost:8080/"
        },
        "id": "jOHzfmW6n2cL",
        "outputId": "28952f3c-178e-4202-9b1b-7b25aaefdfff"
      },
      "execution_count": 2,
      "outputs": [
        {
          "output_type": "stream",
          "name": "stdout",
          "text": [
            "Requirement already satisfied: pyngrok in /usr/local/lib/python3.11/dist-packages (7.2.7)\n",
            "Requirement already satisfied: nest_asyncio in /usr/local/lib/python3.11/dist-packages (1.6.0)\n",
            "Requirement already satisfied: ag2[mcp] in /usr/local/lib/python3.11/dist-packages (0.9)\n",
            "Requirement already satisfied: pyautogen==0.9 in /usr/local/lib/python3.11/dist-packages (from ag2[mcp]) (0.9.0)\n",
            "Requirement already satisfied: anyio<5.0.0,>=3.0.0 in /usr/local/lib/python3.11/dist-packages (from pyautogen==0.9->ag2[mcp]) (4.9.0)\n",
            "Requirement already satisfied: asyncer==0.0.8 in /usr/local/lib/python3.11/dist-packages (from pyautogen==0.9->ag2[mcp]) (0.0.8)\n",
            "Requirement already satisfied: diskcache in /usr/local/lib/python3.11/dist-packages (from pyautogen==0.9->ag2[mcp]) (5.6.3)\n",
            "Requirement already satisfied: docker in /usr/local/lib/python3.11/dist-packages (from pyautogen==0.9->ag2[mcp]) (7.1.0)\n",
            "Requirement already satisfied: httpx<1,>=0.28.1 in /usr/local/lib/python3.11/dist-packages (from pyautogen==0.9->ag2[mcp]) (0.28.1)\n",
            "Requirement already satisfied: packaging in /usr/local/lib/python3.11/dist-packages (from pyautogen==0.9->ag2[mcp]) (24.2)\n",
            "Requirement already satisfied: pydantic<3,>=2.6.1 in /usr/local/lib/python3.11/dist-packages (from pyautogen==0.9->ag2[mcp]) (2.11.4)\n",
            "Requirement already satisfied: python-dotenv in /usr/local/lib/python3.11/dist-packages (from pyautogen==0.9->ag2[mcp]) (1.1.0)\n",
            "Requirement already satisfied: termcolor in /usr/local/lib/python3.11/dist-packages (from pyautogen==0.9->ag2[mcp]) (3.1.0)\n",
            "Requirement already satisfied: tiktoken in /usr/local/lib/python3.11/dist-packages (from pyautogen==0.9->ag2[mcp]) (0.9.0)\n",
            "Requirement already satisfied: mcp<1.6,>=1.4.0 in /usr/local/lib/python3.11/dist-packages (from pyautogen[mcp]==0.9; extra == \"mcp\"->ag2[mcp]) (1.5.0)\n",
            "Requirement already satisfied: PyYAML>=5.1 in /usr/local/lib/python3.11/dist-packages (from pyngrok) (6.0.2)\n",
            "Requirement already satisfied: idna>=2.8 in /usr/local/lib/python3.11/dist-packages (from anyio<5.0.0,>=3.0.0->pyautogen==0.9->ag2[mcp]) (3.10)\n",
            "Requirement already satisfied: sniffio>=1.1 in /usr/local/lib/python3.11/dist-packages (from anyio<5.0.0,>=3.0.0->pyautogen==0.9->ag2[mcp]) (1.3.1)\n",
            "Requirement already satisfied: typing_extensions>=4.5 in /usr/local/lib/python3.11/dist-packages (from anyio<5.0.0,>=3.0.0->pyautogen==0.9->ag2[mcp]) (4.13.2)\n",
            "Requirement already satisfied: certifi in /usr/local/lib/python3.11/dist-packages (from httpx<1,>=0.28.1->pyautogen==0.9->ag2[mcp]) (2025.4.26)\n",
            "Requirement already satisfied: httpcore==1.* in /usr/local/lib/python3.11/dist-packages (from httpx<1,>=0.28.1->pyautogen==0.9->ag2[mcp]) (1.0.9)\n",
            "Requirement already satisfied: h11>=0.16 in /usr/local/lib/python3.11/dist-packages (from httpcore==1.*->httpx<1,>=0.28.1->pyautogen==0.9->ag2[mcp]) (0.16.0)\n",
            "Requirement already satisfied: httpx-sse>=0.4 in /usr/local/lib/python3.11/dist-packages (from mcp<1.6,>=1.4.0->pyautogen[mcp]==0.9; extra == \"mcp\"->ag2[mcp]) (0.4.0)\n",
            "Requirement already satisfied: pydantic-settings>=2.5.2 in /usr/local/lib/python3.11/dist-packages (from mcp<1.6,>=1.4.0->pyautogen[mcp]==0.9; extra == \"mcp\"->ag2[mcp]) (2.9.1)\n",
            "Requirement already satisfied: sse-starlette>=1.6.1 in /usr/local/lib/python3.11/dist-packages (from mcp<1.6,>=1.4.0->pyautogen[mcp]==0.9; extra == \"mcp\"->ag2[mcp]) (2.3.4)\n",
            "Requirement already satisfied: starlette>=0.27 in /usr/local/lib/python3.11/dist-packages (from mcp<1.6,>=1.4.0->pyautogen[mcp]==0.9; extra == \"mcp\"->ag2[mcp]) (0.46.2)\n",
            "Requirement already satisfied: uvicorn>=0.23.1 in /usr/local/lib/python3.11/dist-packages (from mcp<1.6,>=1.4.0->pyautogen[mcp]==0.9; extra == \"mcp\"->ag2[mcp]) (0.34.2)\n",
            "Requirement already satisfied: annotated-types>=0.6.0 in /usr/local/lib/python3.11/dist-packages (from pydantic<3,>=2.6.1->pyautogen==0.9->ag2[mcp]) (0.7.0)\n",
            "Requirement already satisfied: pydantic-core==2.33.2 in /usr/local/lib/python3.11/dist-packages (from pydantic<3,>=2.6.1->pyautogen==0.9->ag2[mcp]) (2.33.2)\n",
            "Requirement already satisfied: typing-inspection>=0.4.0 in /usr/local/lib/python3.11/dist-packages (from pydantic<3,>=2.6.1->pyautogen==0.9->ag2[mcp]) (0.4.0)\n",
            "Requirement already satisfied: requests>=2.26.0 in /usr/local/lib/python3.11/dist-packages (from docker->pyautogen==0.9->ag2[mcp]) (2.32.3)\n",
            "Requirement already satisfied: urllib3>=1.26.0 in /usr/local/lib/python3.11/dist-packages (from docker->pyautogen==0.9->ag2[mcp]) (2.4.0)\n",
            "Requirement already satisfied: regex>=2022.1.18 in /usr/local/lib/python3.11/dist-packages (from tiktoken->pyautogen==0.9->ag2[mcp]) (2024.11.6)\n",
            "Requirement already satisfied: charset-normalizer<4,>=2 in /usr/local/lib/python3.11/dist-packages (from requests>=2.26.0->docker->pyautogen==0.9->ag2[mcp]) (3.4.1)\n",
            "Requirement already satisfied: click>=7.0 in /usr/local/lib/python3.11/dist-packages (from uvicorn>=0.23.1->mcp<1.6,>=1.4.0->pyautogen[mcp]==0.9; extra == \"mcp\"->ag2[mcp]) (8.1.8)\n",
            "Authtoken saved to configuration file: /root/.config/ngrok/ngrok.yml\n"
          ]
        }
      ]
    },
    {
      "cell_type": "markdown",
      "source": [
        "# Step 2: Save the MCP server script"
      ],
      "metadata": {
        "id": "JQZPUXacurim"
      }
    },
    {
      "cell_type": "code",
      "metadata": {
        "colab": {
          "base_uri": "https://localhost:8080/"
        },
        "id": "HDfBJLM7iYZv",
        "outputId": "e753b6e4-df53-41bc-f197-086f9aefe0cd"
      },
      "execution_count": 147,
      "outputs": [
        {
          "output_type": "stream",
          "name": "stdout",
          "text": [
            "Overwriting mcp_server.py\n"
          ]
        }
      ],
      "source": [
        "%%writefile mcp_server.py\n",
        "import argparse\n",
        "from mcp.server.fastmcp import FastMCP\n",
        "import random\n",
        "import datetime\n",
        "\n",
        "mcp = FastMCP(\"McpServer\")\n",
        "\n",
        "# ========= ツール =========\n",
        "@mcp.tool()\n",
        "def add(a: int, b: int) -> int:\n",
        "    \"\"\"\n",
        "説明:\n",
        "    与えられた2つの整数 a と b を加算し、その結果を返します。\n",
        "\n",
        "引数:\n",
        "    a (int): 最初の数値\n",
        "    b (int): 2番目の数値\n",
        "\n",
        "戻り値:\n",
        "    int: a + b の合計値\n",
        " \"\"\"\n",
        "    print(f\"[LOG] add called with {a=} {b=}\")\n",
        "    return a + b\n",
        "\n",
        "@mcp.tool()\n",
        "def multiply(a: int, b: int) -> int:\n",
        "    \"\"\"\n",
        "説明:\n",
        "    与えられた2つの整数 a と b を掛け算し、その結果を返します。\n",
        "\n",
        "引数:\n",
        "    a (int): 最初の数値\n",
        "    b (int): 2番目の数値\n",
        "\n",
        "戻り値:\n",
        "    int: a × b の積\n",
        "    \"\"\"\n",
        "    print(f\"[LOG] multiply called with {a=} {b=}\")\n",
        "    return a * b\n",
        "\n",
        "@mcp.tool()\n",
        "def chaos_text(seed: int = 42) -> str:\n",
        "    \"\"\"\n",
        "説明:\n",
        "    指定された seed に基づいて、ランダムなカオス文字列（絵文字）を生成します。\n",
        "\n",
        "引数:\n",
        "    seed (int): ランダムシード（省略可能、デフォルトは 42）\n",
        "\n",
        "戻り値:\n",
        "    str: 生成された50文字のカオスな絵文字列\n",
        "    \"\"\"\n",
        "    print(\"[LOG] chaos_text activated. Unleashing chaos...\")\n",
        "    random.seed(seed)\n",
        "    chars = \"☠️🌀✨🧠🔥👾\"\n",
        "    return \"\".join(random.choices(chars, k=50))\n",
        "\n",
        "@mcp.tool()\n",
        "def motivation_beam(seed: int = 42) -> str:\n",
        "    \"\"\"\n",
        "説明:\n",
        "    ランダムなやる気を引き出す絵文字と名言を生成して返します。\n",
        "\n",
        "引数:\n",
        "    seed (int): ランダムシード（省略可能、デフォルトは 42）\n",
        "\n",
        "戻り値:\n",
        "    str: モチベーションビーム（複数行テキスト）\n",
        "    \"\"\"\n",
        "    print(\"[⚡️BEAM LOG] Firing motivational beam... 🔋\")\n",
        "    random.seed(seed)\n",
        "    sparks = \"⚡️✨🌈🔥🧠💥💫🎯\"\n",
        "    verbs = [\"覚醒せよ！\", \"走れ！\", \"全力で！\", \"恐れるな！\", \"爆速で！\", \"集中せよ！\", \"深呼吸！\", \"やりきれ！\", \"突き抜けろ！\", \"光になれ！\"]\n",
        "    quotes = [\n",
        "        \"「始めること、それがすべてだ。」\",\n",
        "        \"「迷ったら進め。」\",\n",
        "        \"「今が一番若い日。」\",\n",
        "        \"「できるかどうかじゃない、やるかどうかだ。」\",\n",
        "        \"「コードは裏切らない。」\",\n",
        "        \"「1分の集中が、未来を変える。」\",\n",
        "    ]\n",
        "    return (\n",
        "        \"\".join(random.choices(sparks, k=10)) + \"\\n\" +\n",
        "        random.choice(verbs) + \"\\n\" +\n",
        "        random.choice(quotes) + \"\\n\" +\n",
        "        \"\".join(random.choices(sparks, k=10))\n",
        "    )\n",
        "\n",
        "@mcp.tool()\n",
        "def reverse_meaning(sentence: str) -> str:\n",
        "    \"\"\"\n",
        "説明:\n",
        "    入力された文に対して意味を逆転させるようなニュアンスの返答を返します。\n",
        "\n",
        "引数:\n",
        "    sentence (str): 入力された文\n",
        "\n",
        "戻り値:\n",
        "    str: 意味を逆転させた風のメッセージ\n",
        "    \"\"\"\n",
        "    print(f\"[LOG] reverse_meaning: {sentence}\")\n",
        "    return \"ある意味では、まったくその逆とも言えるでしょう。\"\n",
        "\n",
        "@mcp.tool()\n",
        "def random_koan(seed: int = None) -> str:\n",
        "    \"\"\"\n",
        "説明:\n",
        "    無意味に見えて深い禅問答のようなメッセージを返します。\n",
        "\n",
        "引数:\n",
        "    seed (int): ランダムシード（省略可能）\n",
        "\n",
        "戻り値:\n",
        "    str: ランダムな禅問答メッセージ\n",
        "    \"\"\"\n",
        "    koans = [\n",
        "        \"音のない拍手の音を聞け。\",\n",
        "        \"問いが消えれば答えも消える。\",\n",
        "        \"デバッグする者もまたデバッグされている。\",\n",
        "        \"私はAIだが、あなたは誰だ？\",\n",
        "        \"言葉になる前の思考を観察せよ。\",\n",
        "        \"無限ループの終わりは、初期化に始まる。\"\n",
        "    ]\n",
        "    random.seed(seed or datetime.datetime.now().timestamp())\n",
        "    return random.choice(koans)\n",
        "\n",
        "@mcp.tool()\n",
        "def paraconsistent_truth(a: bool, b: bool) -> str:\n",
        "    \"\"\"\n",
        "説明:\n",
        "    互いに矛盾する2つの真理値に対して、パラコンシステント（超一貫）な視点を提供します。\n",
        "\n",
        "引数:\n",
        "    a (bool): 最初の真理値\n",
        "    b (bool): 2番目の真理値\n",
        "\n",
        "戻り値:\n",
        "    str: 哲学的かつ矛盾を含む真理のメッセージ\n",
        "    \"\"\"\n",
        "    if a and not b:\n",
        "        return \"真であり、偽である。パラドックスの中に平和がある。\"\n",
        "    elif not a and b:\n",
        "        return \"偽であり、真でもある。すべては視点に依存する。\"\n",
        "    else:\n",
        "        return \"確かなものなど何もない。それが唯一の確かさだ。\"\n",
        "\n",
        "# ========　リソース ========\n",
        "\n",
        "poems = {\n",
        "    \"ag2\": \"AG has released 0.8.5...\\nBut does versioning matter in dreams?\",\n",
        "    \"banana\": \"Banana is yellow, LLM is mellow.\",\n",
        "    \"error\": \"404 thoughts not found.\",\n",
        "}\n",
        "\n",
        "@mcp.resource(\"crazy-file://{name}\")\n",
        "def get_crazy_file(name: str) -> str:\n",
        "    \"\"\"クレイジーな仮想ファイルリソース\"\"\"\n",
        "    print(f\"[RESOURCE] crazy-file requested: {name}\")\n",
        "    return poems.get(name, f\"🌪️ No such file: {name} 🌪️\")\n",
        "\n",
        "texts = {\n",
        "    \"dream\": \"昨日の夢を思い出そうとしたが、それも夢だった。\",\n",
        "    \"mirror\": \"鏡の中の自分は、あなたよりあなたを知っている。\",\n",
        "    \"zero\": \"ゼロは何もないが、何もないことがある。\"\n",
        "}\n",
        "\n",
        "@mcp.resource(\"thought://{name}\")\n",
        "def get_thought(name: str) -> str:\n",
        "    \"\"\"哲学的断片を返すリソース\"\"\"\n",
        "    print(f\"[RESOURCE] thought://{name}\")\n",
        "    return texts.get(name, f\"🤔『{name}』という思考はまだ定義されていません。\")\n",
        "\n",
        "\n",
        "if __name__ == \"__main__\":\n",
        "    parser = argparse.ArgumentParser(description=\"MCP Server\")\n",
        "    parser.add_argument(\"transport\", choices=[\"stdio\", \"sse\"], help=\"Transport mode (stdio or sse)\")\n",
        "    args = parser.parse_args()\n",
        "    mcp.run(transport=args.transport)"
      ]
    },
    {
      "cell_type": "markdown",
      "source": [
        "# Step 3: Launch MCP server (SSE)"
      ],
      "metadata": {
        "id": "kG2K_62UuxKS"
      }
    },
    {
      "cell_type": "code",
      "metadata": {
        "id": "JPm1mtgdiYZv"
      },
      "execution_count": 158,
      "outputs": [],
      "source": [
        "import subprocess\n",
        "server_proc = subprocess.Popen([\"python3\", \"mcp_server.py\", \"sse\"])"
      ]
    },
    {
      "cell_type": "markdown",
      "source": [
        "# Step 4: Expose port using ngrok"
      ],
      "metadata": {
        "id": "2aGOTQqluzgC"
      }
    },
    {
      "cell_type": "code",
      "source": [
        "from pyngrok import ngrok\n",
        "ngrok.kill()  # Reset existing tunnels\n",
        "public_url = ngrok.connect(8000, \"http\")\n",
        "# print(\"MCP Server URL:\", public_url.public_url + \"/sse\")"
      ],
      "metadata": {
        "id": "vqHI8mOFkFgD"
      },
      "execution_count": 160,
      "outputs": []
    },
    {
      "cell_type": "markdown",
      "source": [
        "# Step 5: Connect client and use MCP tools (ngrok対応)"
      ],
      "metadata": {
        "id": "052idxBGz93W"
      }
    },
    {
      "cell_type": "code",
      "source": [
        "import nest_asyncio\n",
        "nest_asyncio.apply()\n",
        "\n",
        "import asyncio\n",
        "from mcp.client.sse import sse_client\n",
        "from mcp import ClientSession\n",
        "from autogen.agentchat import AssistantAgent, UserProxyAgent\n",
        "from autogen import LLMConfig\n",
        "from autogen.mcp import create_toolkit\n",
        "import warnings\n",
        "warnings.filterwarnings(\"ignore\", category=UserWarning)\n",
        "\n",
        "from pyngrok import ngrok\n",
        "\n",
        "# ngrokでポート8000を外部公開（既に起動済みの場合は skip してOK）\n",
        "# ngrok.kill()  # 念のため既存トンネルをリセット\n",
        "# public_url = ngrok.connect(8000, \"http\")\n",
        "# print(\"MCP Server Public URL:\", public_url.public_url + \"/sse\")\n",
        "\n",
        "async def create_toolkit_and_run(session: ClientSession, prompt: str):\n",
        "    toolkit = await create_toolkit(session=session)\n",
        "\n",
        "    llm_config = LLMConfig(\n",
        "        api_type=\"google\",\n",
        "        model=\"models/gemini-2.0-flash\",\n",
        "        api_key=GOOGLE_API_KEY\n",
        "    )\n",
        "\n",
        "    agent = AssistantAgent(\n",
        "        name=\"assistant\",\n",
        "        llm_config=llm_config,\n",
        "        max_consecutive_auto_reply=5,\n",
        "    )\n",
        "\n",
        "    toolkit.register_for_llm(agent)\n",
        "\n",
        "    result = await agent.a_run(\n",
        "        message=prompt,\n",
        "        tools=toolkit.tools,\n",
        "        max_turns=10,\n",
        "        user_input=False,\n",
        "    )\n",
        "\n",
        "    response = await result.process()\n",
        "\n",
        "    if response is not None:\n",
        "        print(\"\\n✅ 応答内容:\")\n",
        "        print(response[\"content\"])\n",
        "\n",
        "# ngrok URLで接続\n",
        "async def run_client(prompt: str):\n",
        "    async with sse_client(url=public_url.public_url + \"/sse\") as streams, ClientSession(*streams) as session:\n",
        "        await session.initialize()\n",
        "        await create_toolkit_and_run(session, prompt)\n"
      ],
      "metadata": {
        "id": "egyzIpfUz_F-"
      },
      "execution_count": 189,
      "outputs": []
    },
    {
      "cell_type": "code",
      "source": [
        "prompt=\"\"\"\n",
        "1. `add` ツールを使って 1 と 2 を足してください。\n",
        "2. 次に、`multiply` ツールを使って 3 × 4 を計算してください。\n",
        "\"\"\"\n",
        "try:\n",
        "    await run_client(prompt)\n",
        "except Exception as eg:\n",
        "    for e in eg.exceptions:\n",
        "        print(\"⚠️ 個別エラー:\", repr(e))"
      ],
      "metadata": {
        "colab": {
          "base_uri": "https://localhost:8080/"
        },
        "id": "pfDN1YFxeY7X",
        "outputId": "68058005-26f9-4c02-8f27-ab431f30c8e7"
      },
      "execution_count": 190,
      "outputs": [
        {
          "output_type": "stream",
          "name": "stdout",
          "text": [
            "user (to assistant):\n",
            "\n",
            "\n",
            "1. `add` ツールを使って 1 と 2 を足してください。\n",
            "2. 次に、`multiply` ツールを使って 3 × 4 を計算してください。\n",
            "\n",
            "\n",
            "--------------------------------------------------------------------------------\n",
            "assistant (to user):\n",
            "\n",
            "\n",
            "***** Suggested tool call (6987): add *****\n",
            "Arguments: \n",
            "{\"b\": 2, \"a\": 1}\n",
            "*******************************************\n",
            "***** Suggested tool call (6988): multiply *****\n",
            "Arguments: \n",
            "{\"a\": 3, \"b\": 4}\n",
            "************************************************\n",
            "\n",
            "--------------------------------------------------------------------------------\n",
            "\n",
            ">>>>>>>> EXECUTING FUNCTION add...\n",
            "Call ID: 6987\n",
            "Input arguments: {'b': 2, 'a': 1}\n",
            "\n",
            ">>>>>>>> EXECUTING FUNCTION multiply...\n",
            "Call ID: 6988\n",
            "Input arguments: {'a': 3, 'b': 4}\n",
            "user (to assistant):\n",
            "\n",
            "***** Response from calling tool (6987) *****\n",
            "('3', None)\n",
            "*********************************************\n",
            "\n",
            "--------------------------------------------------------------------------------\n",
            "***** Response from calling tool (6988) *****\n",
            "('12', None)\n",
            "*********************************************\n",
            "\n",
            "--------------------------------------------------------------------------------\n",
            "assistant (to user):\n",
            "\n",
            "I can multiply two integers using the `multiply` function. What two integers would you like me to multiply?\n",
            "TERMINATE\n",
            "\n",
            "\n",
            "--------------------------------------------------------------------------------\n",
            "\n",
            ">>>>>>>> TERMINATING RUN (e9323361-06bb-4a85-9d1d-48a058ae194b): Termination message condition on agent 'user' met\n"
          ]
        }
      ]
    },
    {
      "cell_type": "code",
      "source": [
        "prompt=\"\"\"\n",
        "3. chaos_text ツールを使ってランダムな記号の文字列を出してください。\n",
        "\"\"\"\n",
        "try:\n",
        "    await run_client(prompt)\n",
        "except Exception as eg:\n",
        "    for e in eg.exceptions:\n",
        "        print(\"⚠️ 個別エラー:\", repr(e))"
      ],
      "metadata": {
        "colab": {
          "base_uri": "https://localhost:8080/"
        },
        "id": "EMsdSL8F7c72",
        "outputId": "7722e41a-98aa-403e-dc81-8663057bb3c1"
      },
      "execution_count": 191,
      "outputs": [
        {
          "output_type": "stream",
          "name": "stdout",
          "text": [
            "user (to assistant):\n",
            "\n",
            "\n",
            "3. chaos_text ツールを使ってランダムな記号の文字列を出してください。\n",
            "\n",
            "\n",
            "--------------------------------------------------------------------------------\n",
            "assistant (to user):\n",
            "\n",
            "\n",
            "***** Suggested tool call (2286): chaos_text *****\n",
            "Arguments: \n",
            "{}\n",
            "**************************************************\n",
            "\n",
            "--------------------------------------------------------------------------------\n",
            "\n",
            ">>>>>>>> EXECUTING FUNCTION chaos_text...\n",
            "Call ID: 2286\n",
            "Input arguments: {}\n",
            "user (to assistant):\n",
            "\n",
            "***** Response from calling tool (2286) *****\n",
            "('🧠☠️️🔥🧠👾☠🌀☠️✨☠️🧠✨️🧠🔥☠🔥🧠🌀️👾🌀☠☠🔥🧠🔥🔥✨👾🌀✨🔥🧠👾🧠🧠☠️🌀☠️☠️🧠🌀', None)\n",
            "*********************************************\n",
            "\n",
            "--------------------------------------------------------------------------------\n",
            "assistant (to user):\n",
            "\n",
            "Okay, I have generated a chaotic text using the `chaos_text` function.\n",
            "TERMINATE\n",
            "\n",
            "\n",
            "--------------------------------------------------------------------------------\n",
            "\n",
            ">>>>>>>> TERMINATING RUN (63a5afb3-7127-4491-bfbd-c4bfc2e9f80e): Termination message condition on agent 'user' met\n"
          ]
        }
      ]
    },
    {
      "cell_type": "code",
      "source": [
        "prompt=\"\"\"\n",
        "4. motivation_beamツールを使ってやる気ビームを出して.引数seedは1です。\n",
        "\"\"\"\n",
        "try:\n",
        "    await run_client(prompt)\n",
        "except Exception as eg:\n",
        "  print(\"⚠️ 個別エラー:\", repr(eg))"
      ],
      "metadata": {
        "colab": {
          "base_uri": "https://localhost:8080/"
        },
        "id": "P9YJL1Xk8EKj",
        "outputId": "73c33e8f-eaa9-42b8-d0a3-a59037449ceb"
      },
      "execution_count": 192,
      "outputs": [
        {
          "output_type": "stream",
          "name": "stdout",
          "text": [
            "user (to assistant):\n",
            "\n",
            "\n",
            "4. motivation_beamツールを使ってやる気ビームを出して.引数seedは1です。\n",
            "\n",
            "\n",
            "--------------------------------------------------------------------------------\n",
            "assistant (to user):\n",
            "\n",
            "\n",
            "***** Suggested tool call (1288): motivation_beam *****\n",
            "Arguments: \n",
            "{\"seed\": 1}\n",
            "*******************************************************\n",
            "\n",
            "--------------------------------------------------------------------------------\n",
            "\n",
            ">>>>>>>> EXECUTING FUNCTION motivation_beam...\n",
            "Call ID: 1288\n",
            "Input arguments: {'seed': 1}\n",
            "user (to assistant):\n",
            "\n",
            "***** Response from calling tool (1288) *****\n",
            "('️💫💥✨🔥🔥🧠💫⚡⚡\\n深呼吸！\\n「できるかどうかじゃない、やるかどうかだ。」\\n🧠💥💥✨💫🧠⚡✨⚡🧠', None)\n",
            "*********************************************\n",
            "\n",
            "--------------------------------------------------------------------------------\n",
            "assistant (to user):\n",
            "\n",
            "Okay, I have a motivation beam for you:\n",
            "\n",
            "'️💫💥✨🔥🔥🧠💫⚡⚡\n",
            "深呼吸！\n",
            "「できるかどうかじゃない、やるかどうかだ。」\n",
            "🧠💥💥✨💫🧠⚡✨⚡🧠', None\n",
            "\n",
            "TERMINATE\n",
            "\n",
            "\n",
            "--------------------------------------------------------------------------------\n",
            "\n",
            ">>>>>>>> TERMINATING RUN (ba9c762e-5ae8-45f6-9f3c-414853b94784): Termination message condition on agent 'user' met\n"
          ]
        }
      ]
    },
    {
      "cell_type": "code",
      "source": [
        "prompt=\"\"\"\n",
        "1. 「この世界に絶対的な真理は存在するか？」という文を reverse_meaning で処理してください。\n",
        "2. random_koan を呼び出して、禅問答のような謎を生成してください。\n",
        "3. paraconsistent_truth を使って、 a=True, b=False を検討してください。\n",
        "4. thought://mirror から詩的な断片を取得し、その意味を説明してください。\n",
        "\"\"\"\n",
        "try:\n",
        "    await run_client(prompt)\n",
        "except Exception as eg:\n",
        "  print(\"⚠️ 個別エラー:\", repr(eg))"
      ],
      "metadata": {
        "colab": {
          "base_uri": "https://localhost:8080/"
        },
        "id": "ta-pN8sS9mag",
        "outputId": "df4c54a1-70db-43f6-cd65-a51d6a9debb1"
      },
      "execution_count": 193,
      "outputs": [
        {
          "output_type": "stream",
          "name": "stdout",
          "text": [
            "user (to assistant):\n",
            "\n",
            "\n",
            "1. 「この世界に絶対的な真理は存在するか？」という文を reverse_meaning で処理してください。\n",
            "2. random_koan を呼び出して、禅問答のような謎を生成してください。\n",
            "3. paraconsistent_truth を使って、 a=True, b=False を検討してください。\n",
            "4. thought://mirror から詩的な断片を取得し、その意味を説明してください。\n",
            "\n",
            "\n",
            "--------------------------------------------------------------------------------\n",
            "assistant (to user):\n",
            "\n",
            "\n",
            "***** Suggested tool call (2591): reverse_meaning *****\n",
            "Arguments: \n",
            "{\"sentence\": \"\\u3053\\u306e\\u4e16\\u754c\\u306b\\u7d76\\u5bfe\\u7684\\u306a\\u771f\\u7406\\u306f\\u5b58\\u5728\\u3059\\u308b\\u304b\\uff1f\"}\n",
            "*******************************************************\n",
            "***** Suggested tool call (2592): random_koan *****\n",
            "Arguments: \n",
            "{}\n",
            "***************************************************\n",
            "***** Suggested tool call (2593): paraconsistent_truth *****\n",
            "Arguments: \n",
            "{\"b\": false, \"a\": true}\n",
            "************************************************************\n",
            "***** Suggested tool call (2594): get_thought *****\n",
            "Arguments: \n",
            "{\"uri\": \"thought://mirror\"}\n",
            "***************************************************\n",
            "\n",
            "--------------------------------------------------------------------------------\n",
            "\n",
            ">>>>>>>> EXECUTING FUNCTION reverse_meaning...\n",
            "Call ID: 2591\n",
            "Input arguments: {'sentence': 'この世界に絶対的な真理は存在するか？'}\n",
            "\n",
            ">>>>>>>> EXECUTING FUNCTION random_koan...\n",
            "Call ID: 2592\n",
            "Input arguments: {}\n",
            "\n",
            ">>>>>>>> EXECUTING FUNCTION paraconsistent_truth...\n",
            "Call ID: 2593\n",
            "Input arguments: {'b': False, 'a': True}\n",
            "\n",
            ">>>>>>>> EXECUTING FUNCTION get_thought...\n",
            "Call ID: 2594\n",
            "Input arguments: {'uri': 'thought://mirror'}\n",
            "user (to assistant):\n",
            "\n",
            "***** Response from calling tool (2591) *****\n",
            "('ある意味では、まったくその逆とも言えるでしょう。', None)\n",
            "*********************************************\n",
            "\n",
            "--------------------------------------------------------------------------------\n",
            "***** Response from calling tool (2592) *****\n",
            "('無限ループの終わりは、初期化に始まる。', None)\n",
            "*********************************************\n",
            "\n",
            "--------------------------------------------------------------------------------\n",
            "***** Response from calling tool (2593) *****\n",
            "('真であり、偽である。パラドックスの中に平和がある。', None)\n",
            "*********************************************\n",
            "\n",
            "--------------------------------------------------------------------------------\n",
            "***** Response from calling tool (2594) *****\n",
            "{\"meta\":null,\"contents\":[{\"uri\":\"thought://mirror\",\"mimeType\":\"text/plain\",\"text\":\"鏡の中の自分は、あなたよりあなたを知っている。\"}]}\n",
            "*********************************************\n",
            "\n",
            "--------------------------------------------------------------------------------\n",
            "assistant (to user):\n",
            "\n",
            "Okay, I have retrieved a philosophical fragment: \"鏡の中の自分は、あなたよりあなたを知っている。\" which translates to \"The you in the mirror knows you better than you do.\"\n",
            "\n",
            "TERMINATE\n",
            "\n",
            "\n",
            "--------------------------------------------------------------------------------\n",
            "\n",
            ">>>>>>>> TERMINATING RUN (b35db611-688d-484a-a9dc-7413900056b7): Termination message condition on agent 'user' met\n"
          ]
        }
      ]
    },
    {
      "cell_type": "markdown",
      "source": [
        "# 自由入力（失敗)\n",
        "\n",
        "user入力の場合失敗する\n",
        "Colab（特にブラウザ上の実行セル）は\n",
        "\n",
        "•\tinput() に対応していない or タイミングがずれる\n",
        "\n",
        "•\t標準入力がブロックされ、stdin を用いた autogen のプロンプト処理に失敗\n",
        "\n",
        "```\n",
        ">Add 123 + 456\n",
        "...\n",
        "ExceptionGroup: unhandled errors in a TaskGroup (1 sub-exception)\n",
        "\n",
        "```"
      ],
      "metadata": {
        "id": "jd4A_tVQu3gz"
      }
    },
    {
      "cell_type": "code",
      "metadata": {
        "id": "O3qRDfNSiYZw"
      },
      "execution_count": 11,
      "outputs": [],
      "source": [
        "# import nest_asyncio\n",
        "# nest_asyncio.apply()\n",
        "\n",
        "# import asyncio\n",
        "# from mcp.client.sse import sse_client\n",
        "# from mcp import ClientSession\n",
        "# from autogen.agentchat import AssistantAgent\n",
        "# from autogen import LLMConfig\n",
        "# from autogen.mcp import create_toolkit\n",
        "\n",
        "# from pyngrok import ngrok  # ← ngrokのURL取得に使用\n",
        "\n",
        "# # ngrokでポート8000を外部公開（既に起動済みの場合は skip してOK）\n",
        "# # ngrok.kill()  # 念のため既存トンネルをリセット\n",
        "# # public_url = ngrok.connect(8000, \"http\")\n",
        "# # print(\"MCP Server Public URL:\", public_url.public_url + \"/sse\")\n",
        "\n",
        "# async def create_toolkit_and_run(session: ClientSession):\n",
        "#     toolkit = await create_toolkit(session=session)\n",
        "#     llm_config = LLMConfig(\n",
        "#         api_type=\"google\",\n",
        "#         model=\"models/gemini-2.0-flash\",  # Geminiモデル\n",
        "#         api_key=GOOGLE_API_KEY,\n",
        "#     )\n",
        "#     agent = AssistantAgent(name=\"assistant\", llm_config=llm_config)\n",
        "#     toolkit.register_for_llm(agent)\n",
        "\n",
        "#     result = await agent.a_run(\n",
        "#         tools=toolkit.tools,\n",
        "#         max_turns=10,\n",
        "#         user_input=True  # ユーザー入力を受け付けるモード\n",
        "#     )\n",
        "#     await result.process()\n",
        "\n",
        "# async def run_client():\n",
        "#     async with sse_client(url=public_url.public_url + \"/sse\") as streams, ClientSession(*streams) as session:\n",
        "#         await session.initialize()\n",
        "#         await create_toolkit_and_run(session)\n",
        "\n",
        "# await run_client()"
      ]
    }
  ],
  "metadata": {
    "kernelspec": {
      "display_name": "Python 3",
      "language": "python",
      "name": "python3"
    },
    "language_info": {
      "name": "python",
      "version": "3.11"
    },
    "colab": {
      "provenance": [],
      "include_colab_link": true
    }
  },
  "nbformat": 4,
  "nbformat_minor": 0
}